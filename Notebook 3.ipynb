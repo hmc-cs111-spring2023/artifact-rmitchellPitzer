{
 "cells": [
  {
   "cell_type": "code",
   "execution_count": 5,
   "id": "4c2febc2",
   "metadata": {},
   "outputs": [
    {
     "name": "stdout",
     "output_type": "stream",
     "text": [
      "Collecting ics\n",
      "  Downloading ics-0.7.2-py2.py3-none-any.whl (40 kB)\n",
      "\u001b[2K     \u001b[38;2;114;156;31m━━━━━━━━━━━━━━━━━━━━━━━━━━━━━━━━━━━━━━━━\u001b[0m \u001b[32m40.1/40.1 kB\u001b[0m \u001b[31m4.0 MB/s\u001b[0m eta \u001b[36m0:00:00\u001b[0m\n",
      "\u001b[?25hRequirement already satisfied: arrow>=0.11 in /Users/rydermitchell/miniforge3/lib/python3.9/site-packages (from ics) (1.2.3)\n",
      "Requirement already satisfied: six>1.5 in /Users/rydermitchell/miniforge3/lib/python3.9/site-packages (from ics) (1.15.0)\n",
      "Requirement already satisfied: python-dateutil in /Users/rydermitchell/miniforge3/lib/python3.9/site-packages (from ics) (2.8.2)\n",
      "Collecting tatsu>4.2\n",
      "  Downloading TatSu-5.8.3-py2.py3-none-any.whl (101 kB)\n",
      "\u001b[2K     \u001b[38;2;114;156;31m━━━━━━━━━━━━━━━━━━━━━━━━━━━━━━━━━━━━━━━\u001b[0m \u001b[32m101.5/101.5 kB\u001b[0m \u001b[31m7.5 MB/s\u001b[0m eta \u001b[36m0:00:00\u001b[0m\n",
      "\u001b[?25hRequirement already satisfied: attrs>=19.1.0 in /Users/rydermitchell/miniforge3/lib/python3.9/site-packages (from ics) (22.1.0)\n",
      "Installing collected packages: tatsu, ics\n",
      "Successfully installed ics-0.7.2 tatsu-5.8.3\n",
      "\n",
      "\u001b[1m[\u001b[0m\u001b[34;49mnotice\u001b[0m\u001b[1;39;49m]\u001b[0m\u001b[39;49m A new release of pip available: \u001b[0m\u001b[31;49m22.3.1\u001b[0m\u001b[39;49m -> \u001b[0m\u001b[32;49m23.1\u001b[0m\n",
      "\u001b[1m[\u001b[0m\u001b[34;49mnotice\u001b[0m\u001b[1;39;49m]\u001b[0m\u001b[39;49m To update, run: \u001b[0m\u001b[32;49mpip install --upgrade pip\u001b[0m\n"
     ]
    }
   ],
   "source": [
    "!pip install ics\n",
    "import ics"
   ]
  },
  {
   "cell_type": "code",
   "execution_count": 1,
   "id": "3c1c7a72",
   "metadata": {},
   "outputs": [],
   "source": [
    "def parseInput(inputStr):\n",
    "    returnedArr = []\n",
    "    eventName, desc = parseEventName(inputStr)\n",
    "    testStr = inputStr[desc:]\n",
    "    descText, indexOfFrom = parseDesc(testStr)\n",
    "    testStr = testStr[indexOfFrom:]\n",
    "\n",
    "    startTime, endTime, indexOfTo = parseTime(testStr)\n",
    "    testStr = testStr[indexOfTo:]\n",
    "    listOfDays, indexOfColor = parseDays(testStr)\n",
    "    testStr = testStr[indexOfColor:]\n",
    "    color = parseColor(testStr)\n",
    "    returnedArr = [eventName, descText, startTime, endTime, listOfDays, color]\n",
    "    return returnedArr \n",
    "\n",
    "\n",
    "\n",
    "def parseEventName(inputStr):\n",
    "    indexOfEvent = \"\"\n",
    "    indexOfDesc = \"\"\n",
    "    if (\"EVENT \\\"\") not in inputStr:\n",
    "        raise Exception(f\"ERROR: Couldn't find EVENT keyword in {inputStr} \\n Example input: EVENT \\\"CS111\\\" DESC \\\"Domain Specific Languages. Occurs ever Monday and Wednesday from 1:15 pm to 2:30 pm.\\\" FROM 1:15pm TO 2:30pm ON Monday Wednesday Friday COLOR orange\")\n",
    "\n",
    "    indexOfEvent = inputStr.index(\"EVENT \\\"\")\n",
    "    if (\"\\\" DESC \\\"\") not in inputStr:\n",
    "        raise Exception(f\"ERROR: Couldn't find DESC keyword \\n Example input: EVENT \\\"CS111\\\" DESC \\\"Domain Specific Languages. Occurs ever Monday and Wednesday from 1:15 pm to 2:30 pm.\\\" FROM 1:15pm TO 2:30pm ON Monday Wednesday Friday COLOR orange\")\n",
    "\n",
    "    indexOfDesc = inputStr.index(\"\\\" DESC \\\"\")\n",
    "    eventName = inputStr[indexOfEvent+7: indexOfDesc]\n",
    "    return (eventName, indexOfDesc)\n",
    "        \n",
    "\n",
    "def parseDesc(inputStrDesc):\n",
    "    if (\"DESC \\\"\") not in inputStrDesc:\n",
    "        raise Exception(f\"ERROR: Couldn't find DESC keyword in {inputStrDesc} \\n Example input: EVENT \\\"CS111\\\" DESC \\\"Domain Specific Languages. Occurs ever Monday and Wednesday from 1:15 pm to 2:30 pm.\\\" FROM 1:15pm TO 2:30pm ON Monday Wednesday Friday COLOR orange\")\n",
    "    indexOfDesc = inputStrDesc.index(\"\\\" DESC \\\"\")\n",
    "    if (\"\\\" FROM \") not in inputStrDesc: \n",
    "        raise Exception(f\"ERROR: Couldn't find FROM keyword in {inputStrDesc} \\n Example input: EVENT \\\"CS111\\\" DESC \\\"Domain Specific Languages. Occurs ever Monday and Wednesday from 1:15 pm to 2:30 pm.\\\" FROM 1:15pm TO 2:30pm ON Monday Wednesday Friday COLOR orange\")\n",
    "\n",
    "    indexOfFrom = inputStrDesc.index(\"\\\" FROM \")\n",
    "    desc = inputStrDesc[indexOfDesc+8:indexOfFrom]\n",
    "    return(desc, indexOfFrom)\n",
    "\n",
    "def parseTime(inputStrTime):\n",
    "    if (\"\\\" FROM \") not in inputStrTime: \n",
    "        raise Exception(f\"ERROR: Couldn't find FROM keyword in {inputStrTime} \\n Example input: EVENT \\\"CS111\\\" DESC \\\"Domain Specific Languages. Occurs ever Monday and Wednesday from 1:15 pm to 2:30 pm.\\\" FROM 1:15pm TO 2:30pm ON Monday Wednesday Friday COLOR orange\")\n",
    "    indexOfFrom = inputStrTime.index(\"\\\" FROM \")\n",
    "    if (\" TO \") not in inputStrTime: \n",
    "        raise Exception(f\"ERROR: Couldn't find TO keyword in {inputStrTime} \\n Example input: EVENT \\\"CS111\\\" DESC \\\"Domain Specific Languages. Occurs ever Monday and Wednesday from 1:15 pm to 2:30 pm.\\\" FROM 1:15pm TO 2:30pm ON Monday Wednesday Friday COLOR orange\")\n",
    "    indexOfTo = inputStrTime.index(\" TO \")\n",
    "    if (\" ON \") not in inputStrTime: \n",
    "        raise Exception(f\"ERROR: Couldn't find TO keyword in {inputStrTime} \\n Example input: EVENT \\\"CS111\\\" DESC \\\"Domain Specific Languages. Occurs ever Monday and Wednesday from 1:15 pm to 2:30 pm.\\\" FROM 1:15pm TO 2:30pm ON Monday Wednesday Friday COLOR orange\")\n",
    "    indexOfOn = inputStrTime.index(\" ON \")\n",
    "    startTime = inputStrTime[indexOfFrom+7:indexOfTo]\n",
    "    endTime = inputStrTime[indexOfTo+4:indexOfOn]\n",
    "    return (startTime, endTime, indexOfOn)\n",
    "\n",
    "def parseDays(inputStrDay):\n",
    "    if (\" ON \") not in inputStrDay: \n",
    "        raise Exception(f\"ERROR: Couldn't find TO keyword in {inputStrDay} \\n Example input: EVENT \\\"CS111\\\" DESC \\\"Domain Specific Languages. Occurs ever Monday and Wednesday from 1:15 pm to 2:30 pm.\\\" FROM 1:15pm TO 2:30pm ON Monday Wednesday Friday COLOR orange\")\n",
    "    indexOfOn = inputStrDay.index(\" ON \")\n",
    "    if (\" COLOR \") not in inputStrDay: \n",
    "        raise Exception(f\"ERROR: Couldn't find COLOR keyword in {inputStrDay} \\n Example input: EVENT \\\"CS111\\\" DESC \\\"Domain Specific Languages. Occurs ever Monday and Wednesday from 1:15 pm to 2:30 pm.\\\" FROM 1:15pm TO 2:30pm ON Monday Wednesday Friday COLOR orange\")\n",
    "    indexOfColor = inputStrDay.index(\" COLOR \")\n",
    "    days = inputStrDay[indexOfOn + 4: indexOfColor].lower()\n",
    "    listOfAcceptableDays = [\n",
    "        \"monday\",\n",
    "        \"tuesday\",\n",
    "        \"wednesday\",\n",
    "        \"thursday\",\n",
    "        \"friday\",\n",
    "        \"saturday\",\n",
    "        \"sunday\",\n",
    "        \"m\",\n",
    "        \"tu\",\n",
    "        \"w\",\n",
    "        \"th\",\n",
    "        \"f\",\n",
    "        \"sa\",\n",
    "        \"su\"\n",
    "    ]\n",
    "    if \"all\" in days:\n",
    "        return ([\"all\"], indexOfColor)\n",
    "    listOfDays = []\n",
    "\n",
    "    for day in listOfAcceptableDays:\n",
    "        if day in days:\n",
    "            listOfDays += [day]\n",
    "            days = days.replace(day, \"\")\n",
    "    if len(listOfDays) == 0:\n",
    "        raise Exception(f\"ERROR: Couldn't find any days in {inputStrTime} \\n Example input: EVENT \\\"CS111\\\" DESC \\\"Domain Specific Languages. Occurs ever Monday and Wednesday from 1:15 pm to 2:30 pm.\\\" FROM 1:15pm TO 2:30pm ON Monday Wednesday Friday COLOR orange\")\n",
    "    return(listOfDays, indexOfColor)\n",
    "            \n",
    "            \n",
    "def parseColor(inputStrColor):\n",
    "    indexOfColor = inputStrColor.index(\" COLOR \")\n",
    "    if \"\\n\" in inputStrColor:\n",
    "        indexOfNewLine = inputStrColor.index(\"\\n\")\n",
    "        return inputStrColor[indexOfColor + 7:indexOfNewLine]\n",
    "    else:\n",
    "        return inputStrColor[indexOfColor + 7:]\n"
   ]
  },
  {
   "cell_type": "code",
   "execution_count": null,
   "id": "2d5e1da3",
   "metadata": {},
   "outputs": [],
   "source": []
  },
  {
   "cell_type": "code",
   "execution_count": 12,
   "id": "e4527861",
   "metadata": {},
   "outputs": [],
   "source": [
    "def parseUserInput():\n",
    "    parsedInput = []\n",
    "    with open('userinput.txt') as f:\n",
    "        lines = f.readlines()\n",
    "    for line in lines:\n",
    "        sendToInput = parseInput(line)\n",
    "        parsedInput += [sendToInput]\n",
    "    print(parsedInput)\n",
    "    return parsedInput"
   ]
  },
  {
   "cell_type": "code",
   "execution_count": 42,
   "id": "948a2ec7",
   "metadata": {},
   "outputs": [
    {
     "name": "stdout",
     "output_type": "stream",
     "text": [
      "[['CS111', 'Domain Specific Languages. Occurs ever Monday and Wednesday from 1:15 pm to 2:30 pm.', '1:15pm', '2:30pm', ['monday', 'wednesday', 'friday'], 'orange'], ['CS131', 'Programming languages. Either starts at 9:35 am or 11 am in McGregor.', '9:35am', '11am', ['monday', 'wednesday', 'friday'], 'green']]\n"
     ]
    }
   ],
   "source": [
    "events = parseUserInput()\n",
    "c = makeNewCalendar(events)\n",
    "\n",
    "with open('my.ics', 'w') as my_file:\n",
    "    my_file.writelines(c.serialize_iter())"
   ]
  },
  {
   "cell_type": "code",
   "execution_count": 41,
   "id": "aa6306bf",
   "metadata": {},
   "outputs": [],
   "source": [
    "from ics import Calendar, Event\n",
    "\n",
    "currentDate = datetime.datetime.today()\n",
    "currentDayOfWeek = currentDate.weekday()\n",
    "def makeNewCalendar(eventArr):\n",
    "    c = Calendar()\n",
    "    for event in events:\n",
    "        newEvent = Event()\n",
    "        newEvent.name = event[0]\n",
    "        newEvent.description = event[1]\n",
    "        newEvent.begin = str(datetime.datetime.today())\n",
    "        newEvent.end = str(\"2023-04-17 07:00:00\")\n",
    "        c.events.add(newEvent)\n",
    "    return c\n"
   ]
  },
  {
   "cell_type": "code",
   "execution_count": 15,
   "id": "6d5fb436",
   "metadata": {},
   "outputs": [],
   "source": [
    "import datetime"
   ]
  },
  {
   "cell_type": "code",
   "execution_count": 16,
   "id": "a862bebf",
   "metadata": {},
   "outputs": [
    {
     "data": {
      "text/plain": [
       "datetime.datetime(2023, 4, 17, 2, 16, 56, 187469)"
      ]
     },
     "execution_count": 16,
     "metadata": {},
     "output_type": "execute_result"
    }
   ],
   "source": [
    "datetime.datetime.today()"
   ]
  },
  {
   "cell_type": "code",
   "execution_count": 19,
   "id": "a46cf0f9",
   "metadata": {},
   "outputs": [
    {
     "data": {
      "text/plain": [
       "0"
      ]
     },
     "execution_count": 19,
     "metadata": {},
     "output_type": "execute_result"
    }
   ],
   "source": [
    "datetime.datetime.today().weekday()"
   ]
  },
  {
   "cell_type": "code",
   "execution_count": 24,
   "id": "1fb4eed2",
   "metadata": {},
   "outputs": [],
   "source": [
    "startTime = \"1:15pm\"\n",
    "in_time = datetime.datetime.strptime(startTime, \"%I:%M%p\")\n",
    "out_time = datetime.datetime.strftime(in_time, \"%H:%M\")"
   ]
  },
  {
   "cell_type": "code",
   "execution_count": 27,
   "id": "a3953f45",
   "metadata": {},
   "outputs": [
    {
     "name": "stdout",
     "output_type": "stream",
     "text": [
      "1900-01-01 13:15:00\n"
     ]
    }
   ],
   "source": [
    "print(in_time)"
   ]
  },
  {
   "cell_type": "code",
   "execution_count": 28,
   "id": "5dc88199",
   "metadata": {},
   "outputs": [],
   "source": [
    "currentTime = datetime.datetime.today()"
   ]
  },
  {
   "cell_type": "code",
   "execution_count": 29,
   "id": "5cb2bf4b",
   "metadata": {},
   "outputs": [
    {
     "name": "stdout",
     "output_type": "stream",
     "text": [
      "2023-04-17 03:44:54.176608\n"
     ]
    }
   ],
   "source": [
    "print(currentTime)"
   ]
  },
  {
   "cell_type": "code",
   "execution_count": 31,
   "id": "8f016f6f",
   "metadata": {},
   "outputs": [
    {
     "name": "stdout",
     "output_type": "stream",
     "text": [
      "3\n"
     ]
    }
   ],
   "source": [
    "# currentTime.time = in_time.hour\n",
    "print(currentTime.hour)"
   ]
  },
  {
   "cell_type": "code",
   "execution_count": null,
   "id": "e7564f83",
   "metadata": {},
   "outputs": [],
   "source": []
  }
 ],
 "metadata": {
  "kernelspec": {
   "display_name": "Python 3 (ipykernel)",
   "language": "python",
   "name": "python3"
  },
  "language_info": {
   "codemirror_mode": {
    "name": "ipython",
    "version": 3
   },
   "file_extension": ".py",
   "mimetype": "text/x-python",
   "name": "python",
   "nbconvert_exporter": "python",
   "pygments_lexer": "ipython3",
   "version": "3.9.13"
  }
 },
 "nbformat": 4,
 "nbformat_minor": 5
}
