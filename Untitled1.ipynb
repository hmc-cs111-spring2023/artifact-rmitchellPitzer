{
 "cells": [
  {
   "cell_type": "code",
   "execution_count": 8,
   "id": "d883feb1",
   "metadata": {},
   "outputs": [
    {
     "name": "stdout",
     "output_type": "stream",
     "text": [
      "Collecting parsita\n",
      "  Downloading parsita-1.7.2-py3-none-any.whl (16 kB)\n",
      "Installing collected packages: parsita\n",
      "Successfully installed parsita-1.7.2\n",
      "\n",
      "\u001b[1m[\u001b[0m\u001b[34;49mnotice\u001b[0m\u001b[1;39;49m]\u001b[0m\u001b[39;49m A new release of pip available: \u001b[0m\u001b[31;49m22.3.1\u001b[0m\u001b[39;49m -> \u001b[0m\u001b[32;49m23.0.1\u001b[0m\n",
      "\u001b[1m[\u001b[0m\u001b[34;49mnotice\u001b[0m\u001b[1;39;49m]\u001b[0m\u001b[39;49m To update, run: \u001b[0m\u001b[32;49mpip install --upgrade pip\u001b[0m\n"
     ]
    }
   ],
   "source": [
    "!pip install parsita\n"
   ]
  },
  {
   "cell_type": "code",
   "execution_count": 46,
   "id": "a3e548ba",
   "metadata": {},
   "outputs": [
    {
     "name": "stdout",
     "output_type": "stream",
     "text": [
      "Success('David')\n"
     ]
    }
   ],
   "source": [
    "from parsita import *\n",
    "\n",
    "class HelloWorldParsers(TextParsers, whitespace=r'[ ]*'):\n",
    "    hello_world = lit('Hello') >> ',' >> reg(r'[A-Z][a-z]*') << '!'\n",
    "\n",
    "# A successful parse produces the parsed value\n",
    "name = HelloWorldParsers.hello_world.parse('Hello, David!').or_die()\n",
    "assert name == 'David'\n",
    "\n",
    "# A parsing failure produces a useful error message\n",
    "# name = HelloWorldParsers.hello_world.parse('Hello David!').or_die()\n",
    "# parsita.state.ParseError: Expected ',' but found 'David'\n",
    "# Line 1, character 7\n",
    "#\n",
    "# Hello David!\n",
    "#       ^\n",
    "\n",
    "print(HelloWorldParsers.hello_world.parse('Hello, David!'))"
   ]
  },
  {
   "cell_type": "code",
   "execution_count": 109,
   "id": "d12055f9",
   "metadata": {},
   "outputs": [],
   "source": [
    "class UserInputParsers(TextParsers, whitespace=r'[ ]*'):\n",
    "    getEvent = lit('Hello') >> ',' >> reg(r'[.*0-9]') << '!'"
   ]
  },
  {
   "cell_type": "code",
   "execution_count": 110,
   "id": "4c13ed7c",
   "metadata": {},
   "outputs": [],
   "source": [
    "with open('userinput.txt') as f:\n",
    "    lines = f.readlines()"
   ]
  },
  {
   "cell_type": "code",
   "execution_count": 111,
   "id": "87dceab1",
   "metadata": {},
   "outputs": [
    {
     "name": "stdout",
     "output_type": "stream",
     "text": [
      "['EVENT \"CS111\" DESC \"Domain Specific Languages. Occurs ever Monday and Wednesday from 1:15 pm to 2:30 pm.\" FROM 1:15pm TO 2:30pm ON mw COLOR orange\\n', 'EVENT \"CS131\" DESC \"Programming languages. Either starts at 9:35 am or 11 am in McGregor.\" FROM 9:35am TO 11am ON mw COLOR green']\n"
     ]
    }
   ],
   "source": [
    "print(lines)"
   ]
  },
  {
   "cell_type": "code",
   "execution_count": 192,
   "id": "4e856802",
   "metadata": {},
   "outputs": [
    {
     "data": {
      "text/plain": [
       "Failure(\"Expected r'[.*0-9]' but found 'a'\\nLine 1, character 8\\n\\nHello, a!\\n       ^ \")"
      ]
     },
     "execution_count": 192,
     "metadata": {},
     "output_type": "execute_result"
    }
   ],
   "source": [
    "UserInputParsers.getEvent.parse('Hello, a!')"
   ]
  },
  {
   "cell_type": "code",
   "execution_count": 249,
   "id": "90ab6d39",
   "metadata": {},
   "outputs": [],
   "source": [
    "class UrlParsers(TextParsers, whitespace=None):\n",
    "    url = lit('EVENT \\\"') >> reg(r'[A-Za-z0-9.]+') >> lit('\\\"') << lit(' DESC.')\n",
    "\n",
    "# assert UrlParsers.url.parse('EVENT drhagen.com/blog/sane-equality/') == \\\n",
    "#     Success(['http', '://', 'drhagen.com', '/blog/sane-equality/'])"
   ]
  },
  {
   "cell_type": "code",
   "execution_count": 250,
   "id": "9593c816",
   "metadata": {},
   "outputs": [
    {
     "data": {
      "text/plain": [
       "Failure('Expected \\'\"\\' but found \\' \\'\\nLine 1, character 17\\n\\nEVENT \"Computing Together\" DESC.\\n                ^               ')"
      ]
     },
     "execution_count": 250,
     "metadata": {},
     "output_type": "execute_result"
    }
   ],
   "source": [
    "UrlParsers.url.parse('EVENT \\\"Computing Together\\\" DESC.')"
   ]
  },
  {
   "cell_type": "code",
   "execution_count": 361,
   "id": "0778472f",
   "metadata": {},
   "outputs": [],
   "source": [
    "class UrlParsers2(TextParsers, whitespace=None):\n",
    "    url2 = lit('EVENT') >> lit(\"\\\"\") >> reg(r'(.*?)') << lit(\"\\\" \") &reg(r'.*') << eof"
   ]
  },
  {
   "cell_type": "code",
   "execution_count": 362,
   "id": "9978f9cc",
   "metadata": {},
   "outputs": [
    {
     "data": {
      "text/plain": [
       "Failure('Expected \\'\"\\' but found \\' \\'\\nLine 1, character 6\\n\\nEVENT \"Computing Together\" DESC\\n     ^                         ')"
      ]
     },
     "execution_count": 362,
     "metadata": {},
     "output_type": "execute_result"
    }
   ],
   "source": [
    "UrlParsers2.url2.parse('EVENT \"Computing Together\" DESC')"
   ]
  },
  {
   "cell_type": "code",
   "execution_count": 1,
   "id": "a29c9d20",
   "metadata": {},
   "outputs": [],
   "source": [
    "from parsita import *\n",
    "class UserInputParsers(TextParsers, whitespace=None):\n",
    "    getEvent = lit('EVENT ') >> reg(r'\"(.*?)\"') << lit(\" \") &reg(r'.*') << eof\n",
    "    getDesc = lit('DESC ') >> reg(r'\"(.*?)\"') << lit(\" \") &reg(r'.*') << eof"
   ]
  },
  {
   "cell_type": "code",
   "execution_count": 2,
   "id": "f0596a7a",
   "metadata": {},
   "outputs": [],
   "source": [
    "eventParsed = UserInputParsers.getEvent.parse('EVENT \"Computing Together\" DESC \"This is a description for cs181AK, computing together.\" ON ')"
   ]
  },
  {
   "cell_type": "code",
   "execution_count": 3,
   "id": "3d07a693",
   "metadata": {},
   "outputs": [
    {
     "name": "stdout",
     "output_type": "stream",
     "text": [
      "\"Computing Together\"\n"
     ]
    }
   ],
   "source": [
    "eventName = eventParsed.value[0]\n",
    "print(eventName)"
   ]
  },
  {
   "cell_type": "code",
   "execution_count": 7,
   "id": "5553426e",
   "metadata": {},
   "outputs": [
    {
     "name": "stdout",
     "output_type": "stream",
     "text": [
      "\"This is a description for cs181AK, computing together.\"\n"
     ]
    }
   ],
   "source": [
    "secondArg = eventParsed.value[1]\n",
    "descParsed = UserInputParsers.getDesc.parse(secondArg)\n",
    "description = descParsed.value[0]\n",
    "print(description)"
   ]
  },
  {
   "cell_type": "code",
   "execution_count": null,
   "id": "8e09ac7b",
   "metadata": {},
   "outputs": [],
   "source": []
  },
  {
   "cell_type": "code",
   "execution_count": null,
   "id": "9f7fee05",
   "metadata": {},
   "outputs": [],
   "source": []
  },
  {
   "cell_type": "code",
   "execution_count": null,
   "id": "dd723416",
   "metadata": {},
   "outputs": [],
   "source": []
  },
  {
   "cell_type": "code",
   "execution_count": 3,
   "id": "231d8f71",
   "metadata": {},
   "outputs": [],
   "source": [
    "with open('userinput.txt') as f:\n",
    "    lines = f.readlines()"
   ]
  },
  {
   "cell_type": "code",
   "execution_count": 4,
   "id": "1b4c6962",
   "metadata": {},
   "outputs": [
    {
     "name": "stdout",
     "output_type": "stream",
     "text": [
      "['EVENT \"CS111\" DESC \"Domain Specific Languages. Occurs ever Monday and Wednesday from 1:15 pm to 2:30 pm.\" FROM 1:15pm TO 2:30pm ON mw COLOR orange\\n', 'EVENT \"CS131\" DESC \"Programming languages. Either starts at 9:35 am or 11 am in McGregor.\" FROM 9:35am TO 11am ON mw COLOR green']\n"
     ]
    }
   ],
   "source": [
    "print(lines)"
   ]
  },
  {
   "cell_type": "code",
   "execution_count": 73,
   "id": "a26e03a5",
   "metadata": {},
   "outputs": [],
   "source": [
    "from parsita import *\n",
    "class UserInputParsers(TextParsers, whitespace=None):\n",
    "    getEvent = lit('EVENT ') >> reg(r'\"(.*?)\"') << lit(\" \") &reg(r'.*') << eof\n",
    "    getDesc = lit('DESC ') >> reg(r'\"(.*?)\"') << lit(\" \") &reg(r'.*') << eof\n",
    "    getStart = lit('FROM ') >> reg(r'(0?[1-9]|1[0-2]):[0-5][0-9]') & lit(\"AM\",\"PM\",\"am\",\"pm\") << lit(\" \") &reg(r'.*') << eof\n",
    "    getEnd = lit('TO ') >> reg(r'(0?[1-9]|1[0-2]):[0-5][0-9]') & lit(\"AM\",\"PM\",\"am\",\"pm\") << lit(\" \")  &reg(r'.*') << eof\n",
    "    getDay = lit('ON ') | lit('w') | lit('mw') | lit(\" \")  & reg(r'.*') << eof"
   ]
  },
  {
   "cell_type": "code",
   "execution_count": 74,
   "id": "76a28e7b",
   "metadata": {},
   "outputs": [
    {
     "name": "stdout",
     "output_type": "stream",
     "text": [
      "\"CS111\"\n",
      "\"Domain Specific Languages. Occurs ever Monday and Wednesday from 1:15 pm to 2:30 pm.\"\n",
      "FROM 1:15pm TO 2:30pm ON mw COLOR orange\n"
     ]
    }
   ],
   "source": [
    "eventName = UserInputParsers.getEvent.parse(lines[0].strip())\n",
    "print(eventName.value[0])\n",
    "descName = UserInputParsers.getDesc.parse(eventName.value[1])\n",
    "print(descName.value[0])\n",
    "print(descName.value[1])\n",
    "restInput = descName.value[1]"
   ]
  },
  {
   "cell_type": "code",
   "execution_count": 75,
   "id": "a9629943",
   "metadata": {},
   "outputs": [
    {
     "name": "stdout",
     "output_type": "stream",
     "text": [
      "1:15 pm\n",
      "TO 2:30pm ON mw COLOR orange\n",
      "2:30 pm\n",
      "ON mw COLOR orange\n"
     ]
    }
   ],
   "source": [
    "startTime = UserInputParsers.getStart.parse(descName.value[1])\n",
    "print(startTime.value[0], startTime.value[1])\n",
    "endTime = UserInputParsers.getEnd.parse(startTime.value[2])\n",
    "print(startTime.value[2])\n",
    "print(endTime.value[0], endTime.value[1])\n",
    "print(endTime.value[2])"
   ]
  },
  {
   "cell_type": "code",
   "execution_count": 76,
   "id": "49b7a730",
   "metadata": {},
   "outputs": [
    {
     "data": {
      "text/plain": [
       "Failure(\"Expected end of source but found 'mw'\\nLine 1, character 4\\n\\nON mw COLOR orange\\n   ^              \")"
      ]
     },
     "execution_count": 76,
     "metadata": {},
     "output_type": "execute_result"
    }
   ],
   "source": [
    "testStr = \"ON mw COLOR orange\"\n",
    "UserInputParsers.getDay.parse(testStr)"
   ]
  },
  {
   "cell_type": "code",
   "execution_count": null,
   "id": "0110762f",
   "metadata": {},
   "outputs": [],
   "source": []
  }
 ],
 "metadata": {
  "kernelspec": {
   "display_name": "Python 3 (ipykernel)",
   "language": "python",
   "name": "python3"
  },
  "language_info": {
   "codemirror_mode": {
    "name": "ipython",
    "version": 3
   },
   "file_extension": ".py",
   "mimetype": "text/x-python",
   "name": "python",
   "nbconvert_exporter": "python",
   "pygments_lexer": "ipython3",
   "version": "3.9.13"
  }
 },
 "nbformat": 4,
 "nbformat_minor": 5
}
